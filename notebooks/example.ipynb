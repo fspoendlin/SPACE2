{
 "cells": [
  {
   "cell_type": "markdown",
   "metadata": {},
   "source": [
    "### SPACE2\n",
    "\n",
    "This notebook provides example code of how to cluster antibodies with SPACE2 and shows customisation options for the clustering.\n",
    "\n",
    "**Default run**"
   ]
  },
  {
   "cell_type": "code",
   "execution_count": null,
   "metadata": {},
   "outputs": [],
   "source": [
    "import glob\n",
    "import SPACE2\n",
    "\n",
    "antibody_models = glob.glob(\"path/to/antibody/models/*.pdb\")\n",
    "\n",
    "clustered_dataframe = SPACE2.agglomerative_clustering(antibody_models, cutoff=1.25)"
   ]
  },
  {
   "cell_type": "markdown",
   "metadata": {},
   "source": [
    "**Specify CDRs for structural comparison and framework for structural alignment**"
   ]
  },
  {
   "cell_type": "code",
   "execution_count": null,
   "metadata": {},
   "outputs": [],
   "source": [
    "from SPACE2 import reg_def\n",
    "\n",
    "# residues for structural comparison\n",
    "cdr_selection = [reg_def['CDRH1'], reg_def['CDRH2'], reg_def['CDRH3']]\n",
    "# residues for structural alignment\n",
    "fw_selection = [reg_def['fwH']]\n",
    "\n",
    "# any list of np.arrays of integers can be used for cdr_selection and fw_selection\n",
    "# these correspond to the imgt residue number of residues to select\n",
    "\n",
    "clustered_dataframe = SPACE2.agglomerative_clustering(\n",
    "    antibody_models, selection=cdr_selection, anchors=fw_selection, cutoff=1.25\n",
    "    )"
   ]
  },
  {
   "cell_type": "markdown",
   "metadata": {},
   "source": [
    "**Distance calculation with dynamic time warping (DTW)**\n",
    "\n",
    "This allows to drop the requirement for all antibodies in a cluster to have identical CDR length."
   ]
  },
  {
   "cell_type": "code",
   "execution_count": null,
   "metadata": {},
   "outputs": [],
   "source": [
    "import numpy as np\n",
    "\n",
    "# specify the allowed length tolerance for each CDR for an antibody to be allowed in the same cluster\n",
    "# here CDRH1 tolerance is 2, CDRH2: 2, CDRH3: 5, CDRL1: 2, CDRL2: 2, CDRL3: 2\n",
    "length_tolerance = np.array([2,2,5,2,2,2])\n",
    "clustered_dataframe = SPACE2.agglomerative_clustering(\n",
    "    antibody_models, d_metric='dtw', length_tolerance=length_tolerance,\n",
    "    )\n",
    "\n",
    "# dtw can also be run with a customised CDR selection\n",
    "cdr_selection = [reg_def['CDRH1'], reg_def['CDRH2'], reg_def['CDRH3']]\n",
    "# here length_tolerance sets the length tolerance for each CDR and in \n",
    "# the same order as specified in cdr_selection\n",
    "length_tolerance = np.array([2,2,5])\n",
    "clustered_dataframe = SPACE2.agglomerative_clustering(\n",
    "    antibody_models, selection=cdr_selection, d_metric='dtw', length_tolerance=length_tolerance,\n",
    "    )"
   ]
  },
  {
   "cell_type": "markdown",
   "metadata": {},
   "source": [
    "**Customise clustering algorithm**"
   ]
  },
  {
   "cell_type": "code",
   "execution_count": null,
   "metadata": {},
   "outputs": [],
   "source": [
    "# greedy clustering\n",
    "clustered_dataframe = SPACE2.greedy_clustering(antibody_models, cutoff=1.25)\n",
    "\n",
    "# k-means clustering, or any other clustering algorithm from scikit-learn\n",
    "from sklearn.cluster import KMeans\n",
    "algorithm = KMeans()\n",
    "clustered_dataframe = SPACE2.cluster_with_algorithm(algorithm, antibody_models)"
   ]
  }
 ],
 "metadata": {
  "kernelspec": {
   "display_name": "SPACE2",
   "language": "python",
   "name": "python3"
  },
  "language_info": {
   "codemirror_mode": {
    "name": "ipython",
    "version": 3
   },
   "file_extension": ".py",
   "mimetype": "text/x-python",
   "name": "python",
   "nbconvert_exporter": "python",
   "pygments_lexer": "ipython3",
   "version": "3.10.15"
  }
 },
 "nbformat": 4,
 "nbformat_minor": 2
}
